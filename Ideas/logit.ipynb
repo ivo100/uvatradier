{
 "cells": [
  {
   "cell_type": "code",
   "id": "7a990f53",
   "metadata": {
    "tags": []
   },
   "source": [
    "#\n",
    "# Example - Using uvatradier to fetch quote data for a given symbol\n",
    "#\n",
    "\n",
    "import os\n",
    "import dotenv\n",
    "import pandas as pd\n",
    "from uvatradier import Quotes\n",
    "\n",
    "# Create .env file within current working directory.\n",
    "# Add the following to your .env file. Specify the correct account number and authorization token for your quote.\n",
    "# \ttradier_acct = <ACCOUNT_NUMBER>\n",
    "#\ttradier_token = <AUTH_TOKEN>\n",
    "\n",
    "dotenv.load_dotenv()\n",
    "\n",
    "ACCOUNT_NUMBER = os.getenv('tradier_acct')\n",
    "AUTH_TOKEN = os.getenv('tradier_token')\n",
    "\n",
    "# Initializing new Quotes object\n",
    "quotes = Quotes(ACCOUNT_NUMBER, AUTH_TOKEN)\n",
    "\n",
    "DOW_30_TICKER = [\n",
    "    \"AAPL\",\n",
    "    \"MSFT\",\n",
    "    \"JPM\",\n",
    "    \"V\",\n",
    "    \"RTX\",\n",
    "    \"PG\",\n",
    "    \"GS\",\n",
    "    \"NKE\",\n",
    "    \"DIS\",\n",
    "    \"AXP\",\n",
    "    \"HD\",\n",
    "    \"INTC\",\n",
    "    \"WMT\",\n",
    "    \"IBM\",\n",
    "    \"MRK\",\n",
    "    \"UNH\",\n",
    "    #\"KO\",\n",
    "    \"CAT\",\n",
    "    \"TRV\",\n",
    "    \"JNJ\",\n",
    "    \"CVX\",\n",
    "    \"MCD\",\n",
    "    \"VZ\",\n",
    "    \"CSCO\",\n",
    "    \"XOM\",\n",
    "    \"BA\",\n",
    "    \"MMM\",\n",
    "    \"PFE\",\n",
    "    \"WBA\",\n",
    "    \"DD\",\n",
    "]\n",
    "\n",
    "# data = pd.DataFrame(quotes.get_historical_quotes('KO', start_date='2022-10-01', end_date='2023-10-01'))\n",
    "\n",
    "# for symb in DOW_30_TICKER:\n",
    "#     data_to_append = pd.DataFrame(quotes.get_historical_quotes(symb, start_date='2022-10-01', end_date='2023-10-01'))\n",
    "#     data = pd.concat([data, data_to_append], ignore_index=True)\n",
    "\n",
    "data = pd.read_csv(\"DOW30data.csv\")\n",
    "\n",
    "print(data)\n",
    "\n",
    "# data['close_change'] = data['close'].pct_change()\n",
    "# data['volume_change'] = data['volume'].pct_change()\\\n",
    "close_change = data['close'].pct_change()\n",
    "volume_change = data['volume'].pct_change();"
   ],
   "outputs": [],
   "execution_count": null
  },
  {
   "cell_type": "code",
   "id": "3da6c557-e86f-4b0d-ac83-caf6b26847ad",
   "metadata": {
    "tags": []
   },
   "source": [
    "# import csv\n",
    "\n",
    "# # Specify the file name\n",
    "# file_name = 'DOW30data.csv'\n",
    "\n",
    "# # Write the DataFrame to a CSV file\n",
    "# data.to_csv(file_name, index=False)\n",
    "\n",
    "# print(f'Data has been written to {file_name}')"
   ],
   "outputs": [],
   "execution_count": null
  },
  {
   "cell_type": "code",
   "id": "7aa86eb6",
   "metadata": {
    "tags": []
   },
   "source": [
    "print(close_change)"
   ],
   "outputs": [],
   "execution_count": null
  },
  {
   "cell_type": "code",
   "id": "1f8c30e6",
   "metadata": {
    "tags": []
   },
   "source": [
    "volume_change"
   ],
   "outputs": [],
   "execution_count": null
  },
  {
   "cell_type": "code",
   "id": "5a01ff11",
   "metadata": {
    "tags": []
   },
   "source": [
    "# Given the close_change Series (as per your example)\n",
    "# close_change = pd.Series([None, 0.002295, -0.009510, -0.021515, -0.009449], name='close')  # truncated for brevity\n",
    "\n",
    "# Replace NaN values with the mean of the non-NaN values\n",
    "close_change_filled = close_change.fillna(close_change.mean())\n",
    "volume_change_filled = volume_change.fillna(volume_change.mean())\n",
    "\n",
    "# print(close_change_filled)\n",
    "# print(volume_change_filled)\n",
    "\n",
    "\n",
    "logit_data = pd.DataFrame({'close':close_change_filled, 'volume':volume_change_filled})\n",
    "print(logit_data)\n"
   ],
   "outputs": [],
   "execution_count": null
  },
  {
   "cell_type": "code",
   "id": "6bff4ce6-03f1-43d8-9ae1-8ace58a02bcd",
   "metadata": {
    "tags": []
   },
   "source": [
    "logit_data.query(\"(volume > 10) or (volume < -10)\")"
   ],
   "outputs": [],
   "execution_count": null
  },
  {
   "cell_type": "code",
   "id": "85b71d0a",
   "metadata": {
    "tags": []
   },
   "source": [
    "import pandas as pd\n",
    "from sklearn.linear_model import LogisticRegression\n",
    "from sklearn.model_selection import train_test_split\n",
    "\n",
    "# # Assuming these are your Series (based on provided data)\n",
    "# close = pd.Series([\n",
    "#     -0.000009, 0.002295, -0.009510, -0.021515, -0.009449, # truncated for brevity\n",
    "#     -0.010417, -0.008246, -0.010260, -0.002502, 0.003046\n",
    "# ])\n",
    "\n",
    "# volume = pd.Series([\n",
    "#     0.057599, 0.158734, -0.240522, 0.200211, -0.332292, # truncated for brevity\n",
    "#     -0.156129, -0.094194, 0.229716, -0.093092, -0.017077\n",
    "# ])\n",
    "\n",
    "# Convert close to binary. Assuming a positive change is 1 and non-positive is 0.\n",
    "logit_data['close_binary'] = (logit_data['close'] > 0).astype(int)\n",
    "\n",
    "# Split data into training and testing sets\n",
    "X_train, X_test, y_train, y_test = train_test_split(logit_data[['volume']], logit_data['close_binary'], test_size=0.2, random_state=42)\n",
    "\n",
    "# Create a logistic regression model\n",
    "model = LogisticRegression()\n",
    "\n",
    "# Fit the model\n",
    "model.fit(X_train, y_train)\n",
    "\n",
    "# Get the score of the model\n",
    "score = model.score(X_test, y_test)\n",
    "\n",
    "print(f\"Model Accuracy: {score*100:.2f}%\")\n"
   ],
   "outputs": [],
   "execution_count": null
  },
  {
   "cell_type": "code",
   "id": "a376893e",
   "metadata": {},
   "source": [],
   "outputs": [],
   "execution_count": null
  }
 ],
 "metadata": {
  "kernelspec": {
   "display_name": "Python 3 (ipykernel)",
   "language": "python",
   "name": "python3"
  },
  "language_info": {
   "codemirror_mode": {
    "name": "ipython",
    "version": 3
   },
   "file_extension": ".py",
   "mimetype": "text/x-python",
   "name": "python",
   "nbconvert_exporter": "python",
   "pygments_lexer": "ipython3",
   "version": "3.11.5"
  }
 },
 "nbformat": 4,
 "nbformat_minor": 5
}
